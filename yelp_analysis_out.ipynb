{
 "cells": [
  {
   "cell_type": "markdown",
   "metadata": {},
   "source": [
    "# Yelp Analysis"
   ]
  },
  {
   "cell_type": "code",
   "execution_count": 1,
   "metadata": {},
   "outputs": [],
   "source": [
    "import numpy as np\n",
    "import pandas as pd"
   ]
  },
  {
   "cell_type": "code",
   "execution_count": 2,
   "metadata": {},
   "outputs": [
    {
     "name": "stderr",
     "output_type": "stream",
     "text": [
      "C:\\Users\\Oliver\\AppData\\Local\\Temp\\ipykernel_13472\\1180441733.py:4: DtypeWarning: Columns (15) have mixed types. Specify dtype option on import or set low_memory=False.\n",
      "  df = pd.read_csv(path)\n",
      "C:\\Users\\Oliver\\AppData\\Local\\Temp\\ipykernel_13472\\1180441733.py:7: DtypeWarning: Columns (27,30) have mixed types. Specify dtype option on import or set low_memory=False.\n",
      "  business_df = pd.read_csv(business_file_path)\n"
     ]
    }
   ],
   "source": [
    "# ---- Importing Data ---- #\n",
    "\n",
    "path = 'yelp_csv\\yelp_academic_dataset_user.csv'\n",
    "df = pd.read_csv(path)\n",
    "    \n",
    "business_file_path = 'yelp_csv\\yelp_academic_dataset_business.csv'\n",
    "business_df = pd.read_csv(business_file_path)\n",
    "\n",
    "review_file_path = 'yelp_csv\\yelp_academic_dataset_review.csv'\n",
    "reviews = pd.read_csv(review_file_path)\n"
   ]
  },
  {
   "cell_type": "markdown",
   "metadata": {},
   "source": [
    "### Dashboard Data Preprocessing"
   ]
  },
  {
   "cell_type": "code",
   "execution_count": 4,
   "metadata": {},
   "outputs": [],
   "source": [
    "# ---- Business Metrics ---- #\n",
    "\n",
    "categories = set()\n",
    "\n",
    "clean_bdf = business_df.dropna(subset=['categories'])\n",
    "clean_bdf.loc[:, 'categories'] = clean_bdf['categories'].apply(lambda x: x.split(', '))\n",
    "\n",
    "clean_bdf['categories'].apply(categories.update)\n",
    "\n",
    "exploded = clean_bdf.explode('categories')\n",
    "\n",
    "exploded.to_csv('out/business_cleaned.csv')"
   ]
  },
  {
   "cell_type": "code",
   "execution_count": 4,
   "metadata": {},
   "outputs": [],
   "source": [
    "elites = df.dropna(subset=['elite'])\n",
    "\n",
    "df['elite_status'] = df['elite'].apply(lambda x: isinstance(x, str))\n",
    "\n",
    "output = pd.DataFrame()\n",
    "\n",
    "output['elite'] = df['elite'].apply(lambda x: isinstance(x, str))\n",
    "\n",
    "reviews['review_length'] = reviews['text'].apply(len)"
   ]
  },
  {
   "cell_type": "code",
   "execution_count": 19,
   "metadata": {},
   "outputs": [],
   "source": [
    "# ---- User Metrics ---- #\n",
    "\n",
    "mean_review_lengths = reviews.groupby('user_id')['review_length'].mean().reset_index()\n",
    "\n",
    "output = df.merge(mean_review_lengths, on='user_id', how='left')\n",
    "\n",
    "\n",
    "compliment_cols = [x for x in df.columns if x.startswith('compliment')]\n",
    "\n",
    "compliments = df[compliment_cols]\n",
    "\n",
    "output.insert(0, 'top_compliment_type', compliments.idxmax('columns', numeric_only=True))\n",
    "\n",
    "wanted_columns = ['user_id', 'top_compliment_type', 'elite_status', 'review_count', 'review_length', 'average_stars', 'fans']\n",
    "\n",
    "output = output[wanted_columns]\n",
    "output.to_csv('out/user_data.csv')\n"
   ]
  },
  {
   "cell_type": "code",
   "execution_count": 20,
   "metadata": {},
   "outputs": [],
   "source": [
    "# ---- Review Metrics ---- #\n",
    "reviews = reviews.merge(df[['user_id', 'elite_status']], on='user_id', how='left')\n",
    "reviews_reduced = reviews[['elite_status', 'date', 'useful']]\n",
    "\n",
    "reviews_reduced.to_csv('out/reviews_reduced.csv')"
   ]
  },
  {
   "cell_type": "markdown",
   "metadata": {},
   "source": []
  }
 ],
 "metadata": {
  "kernelspec": {
   "display_name": "base",
   "language": "python",
   "name": "python3"
  },
  "language_info": {
   "codemirror_mode": {
    "name": "ipython",
    "version": 3
   },
   "file_extension": ".py",
   "mimetype": "text/x-python",
   "name": "python",
   "nbconvert_exporter": "python",
   "pygments_lexer": "ipython3",
   "version": "3.11.5"
  }
 },
 "nbformat": 4,
 "nbformat_minor": 2
}
